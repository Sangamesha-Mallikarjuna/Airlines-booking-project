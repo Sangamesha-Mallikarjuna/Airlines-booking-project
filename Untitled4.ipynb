{
  "nbformat": 4,
  "nbformat_minor": 0,
  "metadata": {
    "colab": {
      "provenance": [],
      "authorship_tag": "ABX9TyMr+erforiFdRZTkg9hm95Y",
      "include_colab_link": true
    },
    "kernelspec": {
      "name": "python3",
      "display_name": "Python 3"
    },
    "language_info": {
      "name": "python"
    }
  },
  "cells": [
    {
      "cell_type": "markdown",
      "metadata": {
        "id": "view-in-github",
        "colab_type": "text"
      },
      "source": [
        "<a href=\"https://colab.research.google.com/github/Sangamesha-Mallikarjuna/Airlines-booking-project/blob/main/Untitled4.ipynb\" target=\"_parent\"><img src=\"https://colab.research.google.com/assets/colab-badge.svg\" alt=\"Open In Colab\"/></a>"
      ]
    },
    {
      "cell_type": "code",
      "execution_count": null,
      "metadata": {
        "colab": {
          "base_uri": "https://localhost:8080/"
        },
        "id": "ri-eC8cEKwHc",
        "outputId": "64a263eb-2bc2-41e1-96ac-b778d712f193"
      },
      "outputs": [
        {
          "output_type": "stream",
          "name": "stdout",
          "text": [
            "welcome to Sangaemsh airlines booking system \n",
            "Available Destination:\n",
            "1-Bengaluru\n",
            "2-chennai\n",
            "3-kolkata\n",
            "4-Delhi\n",
            "Enter your Destination choice(1-4):1\n",
            "Your selected Silicon City Bengaluru.\n",
            "Ticket Price 4000.\n",
            "food price 400.\n",
            "Total 4400.\n",
            "\n",
            " Choose Flight Class\n",
            "1- Economy_Class(no extra fees)\n",
            "2- Business(+2999)\n",
            "3-First Class(+3999)\n",
            "Enter Your Class(1-3):3\n",
            "Frist Class Selected.\n",
            "\n",
            "Final tictket_Price: 7999\n",
            "Booking Confirmed! Have a safe journey\n"
          ]
        }
      ],
      "source": [
        "\n",
        "# Airlines Ticket Booking Project Using if Statement\n",
        "print(\"welcome to Sangaemsh airlines booking system \")\n",
        "print (\"Available Destination:\")\n",
        "\n",
        "print(\"1-Bengaluru\")\n",
        "print(\"2-chennai\")\n",
        "print(\"3-kolkata\")\n",
        "print(\"4-Delhi\")\n",
        "\n",
        "\n",
        "choice = int(input(\"Enter your Destination choice(1-4):\"))\n",
        "\n",
        "ticket_price = 0\n",
        "\n",
        "if choice == 1:\n",
        "   ticket_price=4000\n",
        "   Destination=\"Silicon City Bengaluru\"\n",
        "   food = 400\n",
        "\n",
        "elif choice == 2:\n",
        "     Destination =\"Chennai\"\n",
        "     food = 500\n",
        "\n",
        "elif choice == 3:\n",
        "    ticket_price = 2500\n",
        "    Destination = \"Kolkata\"\n",
        "    food = 650\n",
        "\n",
        "elif choice == 4:\n",
        "     ticket_price = 3250\n",
        "     Destination = \" Delhi\"\n",
        "     food = 750\n",
        "else:\n",
        "\n",
        "    print(\"invalid points. please restart and seletct vaid.\")\n",
        "\n",
        "exit()\n",
        "\n",
        "print(f\"Your selected {Destination}.\\nTicket Price {ticket_price}.\\nfood price {food}.\\nTotal {ticket_price + food}.\")\n",
        "\n",
        "#print(\"Destination:\",Destination)\n",
        "#print(\"ticket price:\",ticket_price)\n",
        "#print(\"food price:\",food)\n",
        "#print(\"Total:\",ticket_price + food)\n",
        "\n",
        "\n",
        "\n",
        "# Extra Options : Flight Class.\n",
        "print(\"\\n Choose Flight Class\")\n",
        "print(\"1- Economy_Class(no extra fees)\")\n",
        "print(\"2- Business(+2999)\")\n",
        "print(\"3-First Class(+3999)\")\n",
        "\n",
        "Class_choice=int(input(\"Enter Your Class(1-3):\"))\n",
        "\n",
        "if Class_choice == 1:\n",
        "   print(\"Economy_Class Selected.\")\n",
        "\n",
        "elif Class_choice == 2:\n",
        "    ticket_price+=2999\n",
        "    print(\"Business_Class Selected.\")\n",
        "\n",
        "elif Class_choice == 3:\n",
        "     ticket_price+= 3999\n",
        "     print(\"Frist Class Selected.\")\n",
        "\n",
        "else:\n",
        "    print(\"invalid points please enter valid option.\")\n",
        "\n",
        "\n",
        "print(f\"\\nFinal tictket_Price:\",ticket_price)\n",
        "\n",
        "print(\"Booking Confirmed! Have a safe journey\")\n",
        "\n",
        "\n",
        "\n"
      ]
    },
    {
      "cell_type": "code",
      "source": [],
      "metadata": {
        "id": "_Ud2Lzc7PZDB"
      },
      "execution_count": null,
      "outputs": []
    }
  ]
}